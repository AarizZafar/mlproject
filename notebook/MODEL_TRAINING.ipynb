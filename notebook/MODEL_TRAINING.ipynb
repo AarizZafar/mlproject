{
 "cells": [
  {
   "cell_type": "code",
   "execution_count": 38,
   "metadata": {},
   "outputs": [],
   "source": [
    "import numpy as np\n",
    "import pandas as pd \n",
    "import matplotlib.pyplot as plt \n",
    "import seaborn as sns\n",
    "\n",
    "# MODELLING \n",
    "from sklearn.metrics import mean_squared_error, r2_score\n",
    "from sklearn.neighbors import KNeighborsRegressor\n",
    "from sklearn.tree import DecisionTreeRegressor \n",
    "from sklearn.ensemble import RandomForestRegressor,AdaBoostRegressor\n",
    "from sklearn.svm import SVR\n",
    "from sklearn.linear_model import LinearRegression,Ridge,Lasso\n",
    "from sklearn.metrics import r2_score, mean_absolute_error, mean_squared_error\n",
    "from sklearn.model_selection import RandomizedSearchCV\n",
    "from catboost import CatBoostRegressor\n",
    "from xgboost import XGBRegressor \n",
    "from sklearn.preprocessing import OneHotEncoder,StandardScaler\n",
    "from sklearn.compose import ColumnTransformer\n",
    "import warnings"
   ]
  },
  {
   "cell_type": "code",
   "execution_count": 39,
   "metadata": {},
   "outputs": [
    {
     "data": {
      "text/html": [
       "<div>\n",
       "<style scoped>\n",
       "    .dataframe tbody tr th:only-of-type {\n",
       "        vertical-align: middle;\n",
       "    }\n",
       "\n",
       "    .dataframe tbody tr th {\n",
       "        vertical-align: top;\n",
       "    }\n",
       "\n",
       "    .dataframe thead th {\n",
       "        text-align: right;\n",
       "    }\n",
       "</style>\n",
       "<table border=\"1\" class=\"dataframe\">\n",
       "  <thead>\n",
       "    <tr style=\"text-align: right;\">\n",
       "      <th></th>\n",
       "      <th>gender</th>\n",
       "      <th>race/ethnicity</th>\n",
       "      <th>parental level of education</th>\n",
       "      <th>lunch</th>\n",
       "      <th>test preparation course</th>\n",
       "      <th>math score</th>\n",
       "      <th>reading score</th>\n",
       "      <th>writing score</th>\n",
       "    </tr>\n",
       "  </thead>\n",
       "  <tbody>\n",
       "    <tr>\n",
       "      <th>0</th>\n",
       "      <td>female</td>\n",
       "      <td>group B</td>\n",
       "      <td>bachelor's degree</td>\n",
       "      <td>standard</td>\n",
       "      <td>none</td>\n",
       "      <td>72</td>\n",
       "      <td>72</td>\n",
       "      <td>74</td>\n",
       "    </tr>\n",
       "    <tr>\n",
       "      <th>1</th>\n",
       "      <td>female</td>\n",
       "      <td>group C</td>\n",
       "      <td>some college</td>\n",
       "      <td>standard</td>\n",
       "      <td>completed</td>\n",
       "      <td>69</td>\n",
       "      <td>90</td>\n",
       "      <td>88</td>\n",
       "    </tr>\n",
       "    <tr>\n",
       "      <th>2</th>\n",
       "      <td>female</td>\n",
       "      <td>group B</td>\n",
       "      <td>master's degree</td>\n",
       "      <td>standard</td>\n",
       "      <td>none</td>\n",
       "      <td>90</td>\n",
       "      <td>95</td>\n",
       "      <td>93</td>\n",
       "    </tr>\n",
       "    <tr>\n",
       "      <th>3</th>\n",
       "      <td>male</td>\n",
       "      <td>group A</td>\n",
       "      <td>associate's degree</td>\n",
       "      <td>free/reduced</td>\n",
       "      <td>none</td>\n",
       "      <td>47</td>\n",
       "      <td>57</td>\n",
       "      <td>44</td>\n",
       "    </tr>\n",
       "    <tr>\n",
       "      <th>4</th>\n",
       "      <td>male</td>\n",
       "      <td>group C</td>\n",
       "      <td>some college</td>\n",
       "      <td>standard</td>\n",
       "      <td>none</td>\n",
       "      <td>76</td>\n",
       "      <td>78</td>\n",
       "      <td>75</td>\n",
       "    </tr>\n",
       "  </tbody>\n",
       "</table>\n",
       "</div>"
      ],
      "text/plain": [
       "   gender race/ethnicity parental level of education         lunch  \\\n",
       "0  female        group B           bachelor's degree      standard   \n",
       "1  female        group C                some college      standard   \n",
       "2  female        group B             master's degree      standard   \n",
       "3    male        group A          associate's degree  free/reduced   \n",
       "4    male        group C                some college      standard   \n",
       "\n",
       "  test preparation course  math score  reading score  writing score  \n",
       "0                    none          72             72             74  \n",
       "1               completed          69             90             88  \n",
       "2                    none          90             95             93  \n",
       "3                    none          47             57             44  \n",
       "4                    none          76             78             75  "
      ]
     },
     "execution_count": 39,
     "metadata": {},
     "output_type": "execute_result"
    }
   ],
   "source": [
    "df = pd.read_csv(\"data/StudentsPerformance.csv\")\n",
    "df.head()"
   ]
  },
  {
   "cell_type": "markdown",
   "metadata": {},
   "source": [
    "Preparing x and y "
   ]
  },
  {
   "cell_type": "code",
   "execution_count": 40,
   "metadata": {},
   "outputs": [],
   "source": [
    "x = df.drop(columns=\"math score\",axis=1)\n",
    "y = df[\"math score\"]"
   ]
  },
  {
   "cell_type": "code",
   "execution_count": 41,
   "metadata": {},
   "outputs": [],
   "source": [
    "num_feature = x.select_dtypes(exclude = \"object\").columns\n",
    "cat_feature = x.select_dtypes(include = \"object\").columns"
   ]
  },
  {
   "cell_type": "code",
   "execution_count": 42,
   "metadata": {},
   "outputs": [],
   "source": [
    "num_transformer = StandardScaler()\n",
    "oh_transformer = OneHotEncoder()\n",
    "\n",
    "preprocessing = ColumnTransformer(\n",
    "    [\n",
    "        (\"OnehotEncoder\",oh_transformer,cat_feature),\n",
    "        (\"StandardScaler\",num_transformer,num_feature)\n",
    "    ]\n",
    ")"
   ]
  },
  {
   "cell_type": "code",
   "execution_count": 43,
   "metadata": {},
   "outputs": [],
   "source": [
    "x = preprocessing.fit_transform(x)"
   ]
  },
  {
   "cell_type": "code",
   "execution_count": 44,
   "metadata": {},
   "outputs": [],
   "source": [
    "from sklearn.model_selection import train_test_split\n",
    "x_train, x_test, y_train, y_test = train_test_split(x,y,test_size=0.2,random_state=42)"
   ]
  },
  {
   "cell_type": "markdown",
   "metadata": {},
   "source": [
    "Evaluation function to give all metrics after training "
   ]
  },
  {
   "cell_type": "code",
   "execution_count": 50,
   "metadata": {},
   "outputs": [],
   "source": [
    "def evaluate_models(actual_vals,predicted_vals):\n",
    "    mae = mean_absolute_error(actual_vals,predicted_vals)\n",
    "    mse = mean_squared_error(actual_vals,predicted_vals)\n",
    "    rmse = np.sqrt(mse)\n",
    "    r2_square = r2_score(actual_vals,predicted_vals)\n",
    "    return mae,rmse,r2_square"
   ]
  },
  {
   "cell_type": "code",
   "execution_count": 51,
   "metadata": {},
   "outputs": [],
   "source": [
    "models = {\n",
    "    \"Linear Regression \"       : LinearRegression(),\n",
    "    \"Lasso\"                    : Lasso(),\n",
    "    \"Ridge\"                    : Ridge(),\n",
    "    \"K-Neighbors regressor \"   : KNeighborsRegressor(),\n",
    "    \"Decision tree \"           : DecisionTreeRegressor(),\n",
    "    \"randomforest\"             : RandomForestRegressor(),\n",
    "    \"XGBRegressor\"             : XGBRegressor(),\n",
    "    \"CatBoosting regressor \"   : CatBoostRegressor(verbose = False),\n",
    "    \"AdaBoost regressor \"      : AdaBoostRegressor()\n",
    "}"
   ]
  },
  {
   "cell_type": "code",
   "execution_count": 72,
   "metadata": {},
   "outputs": [
    {
     "name": "stdout",
     "output_type": "stream",
     "text": [
      "<<<<<<<<<<<<<<<<<<<<<<<<<<<<<<<<<<<<<<<<<<<<<<<<< Linear Regression  >>>>>>>>>>>>>>>>>>>>>>>>>>>>>>>>>>>>>>>>>>>>>>>>>>>>> \n",
      "\n",
      "Model performance based on train data\n",
      " - ROOT MEAN SQUARED ERROR      :    5.3293\n",
      " - MEAN ABSOLUTE ERROR          :    4.2715\n",
      " - R2 SCORE                     :    0.8740\n",
      "-------------------------------------------------------\n",
      "Model performance based on test data\n",
      " - ROOT MEAN SQUARED ERROR      :    5.4252\n",
      " - MEAN ABSOLUTE ERROR          :    4.2222\n",
      " - R2 SCORE                     :    0.8790\n",
      "<<<<<<<<<<<<<<<<<<<<<<<<<<<<<<<<<<<<<<<<<<<<<<<<< Lasso >>>>>>>>>>>>>>>>>>>>>>>>>>>>>>>>>>>>>>>>>>>>>>>>>>>>> \n",
      "\n",
      "Model performance based on train data\n",
      " - ROOT MEAN SQUARED ERROR      :    6.5938\n",
      " - MEAN ABSOLUTE ERROR          :    5.2063\n",
      " - R2 SCORE                     :    0.8071\n",
      "-------------------------------------------------------\n",
      "Model performance based on test data\n",
      " - ROOT MEAN SQUARED ERROR      :    6.5197\n",
      " - MEAN ABSOLUTE ERROR          :    5.1579\n",
      " - R2 SCORE                     :    0.8253\n",
      "<<<<<<<<<<<<<<<<<<<<<<<<<<<<<<<<<<<<<<<<<<<<<<<<< Ridge >>>>>>>>>>>>>>>>>>>>>>>>>>>>>>>>>>>>>>>>>>>>>>>>>>>>> \n",
      "\n",
      "Model performance based on train data\n",
      " - ROOT MEAN SQUARED ERROR      :    5.3233\n",
      " - MEAN ABSOLUTE ERROR          :    4.2650\n",
      " - R2 SCORE                     :    0.8743\n",
      "-------------------------------------------------------\n",
      "Model performance based on test data\n",
      " - ROOT MEAN SQUARED ERROR      :    5.3904\n",
      " - MEAN ABSOLUTE ERROR          :    4.2111\n",
      " - R2 SCORE                     :    0.8806\n",
      "<<<<<<<<<<<<<<<<<<<<<<<<<<<<<<<<<<<<<<<<<<<<<<<<< K-Neighbors regressor  >>>>>>>>>>>>>>>>>>>>>>>>>>>>>>>>>>>>>>>>>>>>>>>>>>>>> \n",
      "\n",
      "Model performance based on train data\n",
      " - ROOT MEAN SQUARED ERROR      :    5.7079\n",
      " - MEAN ABSOLUTE ERROR          :    4.5168\n",
      " - R2 SCORE                     :    0.8555\n",
      "-------------------------------------------------------\n",
      "Model performance based on test data\n",
      " - ROOT MEAN SQUARED ERROR      :    7.2530\n",
      " - MEAN ABSOLUTE ERROR          :    5.6210\n",
      " - R2 SCORE                     :    0.7838\n",
      "<<<<<<<<<<<<<<<<<<<<<<<<<<<<<<<<<<<<<<<<<<<<<<<<< Decision tree  >>>>>>>>>>>>>>>>>>>>>>>>>>>>>>>>>>>>>>>>>>>>>>>>>>>>> \n",
      "\n",
      "Model performance based on train data\n",
      " - ROOT MEAN SQUARED ERROR      :    0.2795\n",
      " - MEAN ABSOLUTE ERROR          :    0.0187\n",
      " - R2 SCORE                     :    0.9997\n",
      "-------------------------------------------------------\n",
      "Model performance based on test data\n",
      " - ROOT MEAN SQUARED ERROR      :    7.7376\n",
      " - MEAN ABSOLUTE ERROR          :    6.2500\n",
      " - R2 SCORE                     :    0.7540\n",
      "<<<<<<<<<<<<<<<<<<<<<<<<<<<<<<<<<<<<<<<<<<<<<<<<< randomforest >>>>>>>>>>>>>>>>>>>>>>>>>>>>>>>>>>>>>>>>>>>>>>>>>>>>> \n",
      "\n",
      "Model performance based on train data\n",
      " - ROOT MEAN SQUARED ERROR      :    2.2829\n",
      " - MEAN ABSOLUTE ERROR          :    1.8288\n",
      " - R2 SCORE                     :    0.9769\n",
      "-------------------------------------------------------\n",
      "Model performance based on test data\n",
      " - ROOT MEAN SQUARED ERROR      :    6.0597\n",
      " - MEAN ABSOLUTE ERROR          :    4.6993\n",
      " - R2 SCORE                     :    0.8491\n",
      "<<<<<<<<<<<<<<<<<<<<<<<<<<<<<<<<<<<<<<<<<<<<<<<<< XGBRegressor >>>>>>>>>>>>>>>>>>>>>>>>>>>>>>>>>>>>>>>>>>>>>>>>>>>>> \n",
      "\n",
      "Model performance based on train data\n",
      " - ROOT MEAN SQUARED ERROR      :    1.0073\n",
      " - MEAN ABSOLUTE ERROR          :    0.6875\n",
      " - R2 SCORE                     :    0.9955\n",
      "-------------------------------------------------------\n",
      "Model performance based on test data\n",
      " - ROOT MEAN SQUARED ERROR      :    6.4733\n",
      " - MEAN ABSOLUTE ERROR          :    5.0577\n",
      " - R2 SCORE                     :    0.8278\n"
     ]
    },
    {
     "name": "stderr",
     "output_type": "stream",
     "text": [
      "d:\\codes\\mlproject\\venv\\Lib\\site-packages\\xgboost\\data.py:520: FutureWarning: is_sparse is deprecated and will be removed in a future version. Check `isinstance(dtype, pd.SparseDtype)` instead.\n",
      "  if is_sparse(data):\n"
     ]
    },
    {
     "name": "stdout",
     "output_type": "stream",
     "text": [
      "<<<<<<<<<<<<<<<<<<<<<<<<<<<<<<<<<<<<<<<<<<<<<<<<< CatBoosting regressor  >>>>>>>>>>>>>>>>>>>>>>>>>>>>>>>>>>>>>>>>>>>>>>>>>>>>> \n",
      "\n",
      "Model performance based on train data\n",
      " - ROOT MEAN SQUARED ERROR      :    3.0427\n",
      " - MEAN ABSOLUTE ERROR          :    2.4054\n",
      " - R2 SCORE                     :    0.9589\n",
      "-------------------------------------------------------\n",
      "Model performance based on test data\n",
      " - ROOT MEAN SQUARED ERROR      :    6.0086\n",
      " - MEAN ABSOLUTE ERROR          :    4.6125\n",
      " - R2 SCORE                     :    0.8516\n",
      "<<<<<<<<<<<<<<<<<<<<<<<<<<<<<<<<<<<<<<<<<<<<<<<<< AdaBoost regressor  >>>>>>>>>>>>>>>>>>>>>>>>>>>>>>>>>>>>>>>>>>>>>>>>>>>>> \n",
      "\n",
      "Model performance based on train data\n",
      " - ROOT MEAN SQUARED ERROR      :    5.8054\n",
      " - MEAN ABSOLUTE ERROR          :    4.7497\n",
      " - R2 SCORE                     :    0.8505\n",
      "-------------------------------------------------------\n",
      "Model performance based on test data\n",
      " - ROOT MEAN SQUARED ERROR      :    6.0038\n",
      " - MEAN ABSOLUTE ERROR          :    4.6756\n",
      " - R2 SCORE                     :    0.8519\n"
     ]
    }
   ],
   "source": [
    "model_list = []\n",
    "r2_list    = []\n",
    "\n",
    "for i in range(len(list(models))):\n",
    "    model = list(models.values())[i]\n",
    "    model.fit(x_train, y_train) # Train model\n",
    "\n",
    "    # PREDICTIONS\n",
    "    train_pred = model.predict(x_train)\n",
    "    test_pred = model.predict(x_test)\n",
    "    \n",
    "    # EVALUATING BASED ON TEST AND TRAIN\n",
    "    train_mae , train_rmse, train_r2 = evaluate_models(y_train, train_pred)\n",
    "    test_mae , test_rmse, test_r2    = evaluate_models(y_test, test_pred)\n",
    "\n",
    "    # print(list(models.keys())[i])\n",
    "    model_list.append(list(models.keys())[i])\n",
    "\n",
    "    print(\"<<<<<<<<<<<<<<<<<<<<<<<<<<<<<<<<<<<<<<<<<<<<<<<<< {0} >>>>>>>>>>>>>>>>>>>>>>>>>>>>>>>>>>>>>>>>>>>>>>>>>>>>> \\n\".format(list(models.keys())[i]))\n",
    "\n",
    "    print(\"Model performance based on train data\")\n",
    "    print(\" - ROOT MEAN SQUARED ERROR      :    {:.4f}\".format(train_rmse))\n",
    "    print(\" - MEAN ABSOLUTE ERROR          :    {:.4f}\".format(train_mae))\n",
    "    print(\" - R2 SCORE                     :    {:.4F}\".format(train_r2))\n",
    "\n",
    "    print(\"-------------------------------------------------------\")\n",
    "\n",
    "    print(\"Model performance based on test data\")\n",
    "    print(\" - ROOT MEAN SQUARED ERROR      :    {:.4f}\".format(test_rmse))\n",
    "    print(\" - MEAN ABSOLUTE ERROR          :    {:.4f}\".format(test_mae))\n",
    "    print(\" - R2 SCORE                     :    {:.4F}\".format(test_r2))\n",
    "    r2_list.append(test_r2)\n"
   ]
  },
  {
   "cell_type": "code",
   "execution_count": 76,
   "metadata": {},
   "outputs": [
    {
     "data": {
      "text/html": [
       "<div>\n",
       "<style scoped>\n",
       "    .dataframe tbody tr th:only-of-type {\n",
       "        vertical-align: middle;\n",
       "    }\n",
       "\n",
       "    .dataframe tbody tr th {\n",
       "        vertical-align: top;\n",
       "    }\n",
       "\n",
       "    .dataframe thead th {\n",
       "        text-align: right;\n",
       "    }\n",
       "</style>\n",
       "<table border=\"1\" class=\"dataframe\">\n",
       "  <thead>\n",
       "    <tr style=\"text-align: right;\">\n",
       "      <th></th>\n",
       "      <th>MODEL NAME</th>\n",
       "      <th>R2 SCORE</th>\n",
       "    </tr>\n",
       "  </thead>\n",
       "  <tbody>\n",
       "    <tr>\n",
       "      <th>2</th>\n",
       "      <td>Ridge</td>\n",
       "      <td>0.880593</td>\n",
       "    </tr>\n",
       "    <tr>\n",
       "      <th>0</th>\n",
       "      <td>Linear Regression</td>\n",
       "      <td>0.879046</td>\n",
       "    </tr>\n",
       "    <tr>\n",
       "      <th>8</th>\n",
       "      <td>AdaBoost regressor</td>\n",
       "      <td>0.851869</td>\n",
       "    </tr>\n",
       "    <tr>\n",
       "      <th>7</th>\n",
       "      <td>CatBoosting regressor</td>\n",
       "      <td>0.851632</td>\n",
       "    </tr>\n",
       "    <tr>\n",
       "      <th>5</th>\n",
       "      <td>randomforest</td>\n",
       "      <td>0.849100</td>\n",
       "    </tr>\n",
       "    <tr>\n",
       "      <th>6</th>\n",
       "      <td>XGBRegressor</td>\n",
       "      <td>0.827797</td>\n",
       "    </tr>\n",
       "    <tr>\n",
       "      <th>1</th>\n",
       "      <td>Lasso</td>\n",
       "      <td>0.825320</td>\n",
       "    </tr>\n",
       "    <tr>\n",
       "      <th>3</th>\n",
       "      <td>K-Neighbors regressor</td>\n",
       "      <td>0.783813</td>\n",
       "    </tr>\n",
       "    <tr>\n",
       "      <th>4</th>\n",
       "      <td>Decision tree</td>\n",
       "      <td>0.753964</td>\n",
       "    </tr>\n",
       "  </tbody>\n",
       "</table>\n",
       "</div>"
      ],
      "text/plain": [
       "               MODEL NAME  R2 SCORE\n",
       "2                   Ridge  0.880593\n",
       "0      Linear Regression   0.879046\n",
       "8     AdaBoost regressor   0.851869\n",
       "7  CatBoosting regressor   0.851632\n",
       "5            randomforest  0.849100\n",
       "6            XGBRegressor  0.827797\n",
       "1                   Lasso  0.825320\n",
       "3  K-Neighbors regressor   0.783813\n",
       "4          Decision tree   0.753964"
      ]
     },
     "execution_count": 76,
     "metadata": {},
     "output_type": "execute_result"
    }
   ],
   "source": [
    "pd.DataFrame(list(zip(model_list,r2_list)),columns=[\"MODEL NAME\",\"R2 SCORE\"]).sort_values(by=[\"R2 SCORE\"],ascending=False)"
   ]
  },
  {
   "cell_type": "markdown",
   "metadata": {},
   "source": [
    "LINEAR REGRESSION"
   ]
  },
  {
   "cell_type": "code",
   "execution_count": 84,
   "metadata": {},
   "outputs": [
    {
     "name": "stdout",
     "output_type": "stream",
     "text": [
      "The accuracy score : 87.90\n"
     ]
    }
   ],
   "source": [
    "linear_regressor = LinearRegression(fit_intercept=True) # (fit_intercept) - indicates wheather or not to the model should calculate the intercept (b) during the fitting process \n",
    "linear_regressor = linear_regressor.fit(x_train,y_train)\n",
    "pred = linear_regressor.predict(x_test)\n",
    "score = r2_score(y_test,pred)*100\n",
    "print(\"The accuracy score : %.2f\" %score)"
   ]
  },
  {
   "cell_type": "code",
   "execution_count": 93,
   "metadata": {},
   "outputs": [
    {
     "data": {
      "text/plain": [
       "<Axes: xlabel='math score', ylabel='Predicted'>"
      ]
     },
     "execution_count": 93,
     "metadata": {},
     "output_type": "execute_result"
    },
    {
     "data": {
      "image/png": "[encoded data removed]",
      "text/plain": [
       "<Figure size 640x480 with 1 Axes>"
      ]
     },
     "metadata": {},
     "output_type": "display_data"
    }
   ],
   "source": [
    "plt.scatter(y_test,pred)\n",
    "plt.xlabel('Actual')\n",
    "plt.ylabel('Predicted')\n",
    "sns.regplot(x=y_test,y=pred,ci=None,color ='red')"
   ]
  },
  {
   "cell_type": "code",
   "execution_count": 96,
   "metadata": {},
   "outputs": [
    {
     "data": {
      "text/html": [
       "<div>\n",
       "<style scoped>\n",
       "    .dataframe tbody tr th:only-of-type {\n",
       "        vertical-align: middle;\n",
       "    }\n",
       "\n",
       "    .dataframe tbody tr th {\n",
       "        vertical-align: top;\n",
       "    }\n",
       "\n",
       "    .dataframe thead th {\n",
       "        text-align: right;\n",
       "    }\n",
       "</style>\n",
       "<table border=\"1\" class=\"dataframe\">\n",
       "  <thead>\n",
       "    <tr style=\"text-align: right;\">\n",
       "      <th></th>\n",
       "      <th>Actual Value</th>\n",
       "      <th>Predicted Value</th>\n",
       "      <th>Difference</th>\n",
       "    </tr>\n",
       "  </thead>\n",
       "  <tbody>\n",
       "    <tr>\n",
       "      <th>521</th>\n",
       "      <td>91</td>\n",
       "      <td>76.4375</td>\n",
       "      <td>14.5625</td>\n",
       "    </tr>\n",
       "    <tr>\n",
       "      <th>737</th>\n",
       "      <td>53</td>\n",
       "      <td>59.3125</td>\n",
       "      <td>-6.3125</td>\n",
       "    </tr>\n",
       "    <tr>\n",
       "      <th>740</th>\n",
       "      <td>80</td>\n",
       "      <td>76.6250</td>\n",
       "      <td>3.3750</td>\n",
       "    </tr>\n",
       "    <tr>\n",
       "      <th>660</th>\n",
       "      <td>74</td>\n",
       "      <td>76.5625</td>\n",
       "      <td>-2.5625</td>\n",
       "    </tr>\n",
       "    <tr>\n",
       "      <th>411</th>\n",
       "      <td>84</td>\n",
       "      <td>87.7500</td>\n",
       "      <td>-3.7500</td>\n",
       "    </tr>\n",
       "  </tbody>\n",
       "</table>\n",
       "</div>"
      ],
      "text/plain": [
       "     Actual Value  Predicted Value  Difference\n",
       "521            91          76.4375     14.5625\n",
       "737            53          59.3125     -6.3125\n",
       "740            80          76.6250      3.3750\n",
       "660            74          76.5625     -2.5625\n",
       "411            84          87.7500     -3.7500"
      ]
     },
     "execution_count": 96,
     "metadata": {},
     "output_type": "execute_result"
    }
   ],
   "source": [
    "pred_df=pd.DataFrame({'Actual Value':y_test,'Predicted Value':pred,'Difference':y_test-pred})\n",
    "pred_df.head()"
   ]
  },
  {
   "cell_type": "code",
   "execution_count": null,
   "metadata": {},
   "outputs": [],
   "source": []
  }
 ],
 "metadata": {
  "kernelspec": {
   "display_name": "venv",
   "language": "python",
   "name": "python3"
  },
  "language_info": {
   "codemirror_mode": {
    "name": "ipython",
    "version": 3
   },
   "file_extension": ".py",
   "mimetype": "text/x-python",
   "name": "python",
   "nbconvert_exporter": "python",
   "pygments_lexer": "ipython3",
   "version": "3.11.4"
  },
  "orig_nbformat": 4
 },
 "nbformat": 4,
 "nbformat_minor": 2
}
